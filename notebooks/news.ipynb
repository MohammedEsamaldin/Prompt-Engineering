{
  "cells": [
    {
      "cell_type": "markdown",
      "id": "c1d1f58a-1a30-42bb-a443-e9227c4a4ff7",
      "metadata": {
        "id": "c1d1f58a-1a30-42bb-a443-e9227c4a4ff7"
      },
      "source": [
        "We'll then import these packages and declare the function that retrieves post titles from reddit."
      ]
    },
    {
      "cell_type": "code",
      "execution_count": 14,
      "id": "b9b83146-5648-40b7-8a26-6dba4e6ef6e0",
      "metadata": {
        "colab": {
          "base_uri": "https://localhost:8080/",
          "height": 1000
        },
        "id": "b9b83146-5648-40b7-8a26-6dba4e6ef6e0",
        "outputId": "4a271a91-5358-48b5-cb6e-74356438b53c"
      },
      "outputs": [
        {
          "data": {
            "text/plain": [
              "Index(['Domain', 'Title', 'Description', 'Body', 'Link', 'timestamp',\n",
              "       'Analyst_Average_Score', 'Analyst_Rank', 'Reference_Final_Score'],\n",
              "      dtype='object')"
            ]
          },
          "execution_count": 14,
          "metadata": {},
          "output_type": "execute_result"
        }
      ],
      "source": [
        "import cohere\n",
        "import pandas as pd\n",
        "import requests\n",
        "import datetime\n",
        "from tqdm import tqdm\n",
        "pd.set_option('display.max_colwidth', None)\n",
        "import nltk\n",
        "\n",
        "df  = pd.read_excel('../Data/Example_data.xlsx')\n",
        "#df['Description'].head(3)\n",
        "df.columns"
      ]
    },
    {
      "cell_type": "markdown",
      "id": "00576fee",
      "metadata": {},
      "source": [
        "# After a text is obtained, we start with text normalization. Text normalization includes:\n",
        "\n",
        "* converting all letters to lower or upper case \n",
        "* converting numbers into words or removing numbers \n",
        "* removing punctuations, accent marks and other diacritics \n",
        "* removing white spaces \n",
        "* expanding abbreviations \n",
        "* removing stop words, sparse terms, and particular words \n",
        "* text canonicalization "
      ]
    },
    {
      "cell_type": "markdown",
      "id": "afe7c62c",
      "metadata": {},
      "source": [
        "# Step 1: Tokenization"
      ]
    },
    {
      "cell_type": "code",
      "execution_count": 15,
      "id": "b71e07e2",
      "metadata": {},
      "outputs": [
        {
          "name": "stderr",
          "output_type": "stream",
          "text": [
            "[nltk_data] Downloading package punkt to\n",
            "[nltk_data]     C:\\Users\\mohammed\\AppData\\Roaming\\nltk_data...\n",
            "[nltk_data]   Package punkt is already up-to-date!\n"
          ]
        },
        {
          "data": {
            "text/plain": [
              "True"
            ]
          },
          "execution_count": 15,
          "metadata": {},
          "output_type": "execute_result"
        }
      ],
      "source": [
        "nltk.download('punkt')"
      ]
    },
    {
      "cell_type": "code",
      "execution_count": 20,
      "id": "7fafe796",
      "metadata": {},
      "outputs": [
        {
          "ename": "NameError",
          "evalue": "name 'DataFrame' is not defined",
          "output_type": "error",
          "traceback": [
            "\u001b[1;31m---------------------------------------------------------------------------\u001b[0m",
            "\u001b[1;31mNameError\u001b[0m                                 Traceback (most recent call last)",
            "\u001b[1;32m<ipython-input-20-ef4f7da81620>\u001b[0m in \u001b[0;36m<module>\u001b[1;34m\u001b[0m\n\u001b[1;32m----> 1\u001b[1;33m \u001b[1;32mdef\u001b[0m \u001b[0mtokenize\u001b[0m\u001b[1;33m(\u001b[0m\u001b[0mcolumn\u001b[0m\u001b[1;33m:\u001b[0m \u001b[0mDataFrame\u001b[0m\u001b[1;33m)\u001b[0m\u001b[1;33m:\u001b[0m\u001b[1;33m\u001b[0m\u001b[1;33m\u001b[0m\u001b[0m\n\u001b[0m\u001b[0;32m      2\u001b[0m     \"\"\"Tokenizes a Pandas dataframe column and returns a list of tokens.\n\u001b[0;32m      3\u001b[0m \u001b[1;33m\u001b[0m\u001b[0m\n\u001b[0;32m      4\u001b[0m     \u001b[0mArgs\u001b[0m\u001b[1;33m:\u001b[0m\u001b[1;33m\u001b[0m\u001b[1;33m\u001b[0m\u001b[0m\n\u001b[0;32m      5\u001b[0m         \u001b[0mcolumn\u001b[0m\u001b[1;33m:\u001b[0m \u001b[0mPandas\u001b[0m \u001b[0mdataframe\u001b[0m \u001b[0mcolumn\u001b[0m \u001b[1;33m(\u001b[0m\u001b[0mi\u001b[0m\u001b[1;33m.\u001b[0m\u001b[0me\u001b[0m\u001b[1;33m.\u001b[0m \u001b[0mdf\u001b[0m\u001b[1;33m[\u001b[0m\u001b[1;34m'text'\u001b[0m\u001b[1;33m]\u001b[0m\u001b[1;33m)\u001b[0m\u001b[1;33m.\u001b[0m\u001b[1;33m\u001b[0m\u001b[1;33m\u001b[0m\u001b[0m\n",
            "\u001b[1;31mNameError\u001b[0m: name 'DataFrame' is not defined"
          ]
        }
      ],
      "source": [
        "def tokenize(column):\n",
        "    \"\"\"Tokenizes a Pandas dataframe column and returns a list of tokens.\n",
        "\n",
        "    Args:\n",
        "        column: Pandas dataframe column (i.e. df['text']).\n",
        "\n",
        "    Returns:\n",
        "        tokens (list): Tokenized list, i.e. [Donald, Trump, tweets]\n",
        "\n",
        "    \"\"\"\n",
        "\n",
        "    tokens = nltk.word_tokenize(column)\n",
        "    return [w for w in tokens if w.isalpha()] "
      ]
    },
    {
      "cell_type": "code",
      "execution_count": 21,
      "id": "8a23c567",
      "metadata": {},
      "outputs": [
        {
          "data": {
            "text/html": [
              "<div>\n",
              "<style scoped>\n",
              "    .dataframe tbody tr th:only-of-type {\n",
              "        vertical-align: middle;\n",
              "    }\n",
              "\n",
              "    .dataframe tbody tr th {\n",
              "        vertical-align: top;\n",
              "    }\n",
              "\n",
              "    .dataframe thead th {\n",
              "        text-align: right;\n",
              "    }\n",
              "</style>\n",
              "<table border=\"1\" class=\"dataframe\">\n",
              "  <thead>\n",
              "    <tr style=\"text-align: right;\">\n",
              "      <th></th>\n",
              "      <th>Description</th>\n",
              "      <th>tokenized_Description</th>\n",
              "    </tr>\n",
              "  </thead>\n",
              "  <tbody>\n",
              "    <tr>\n",
              "      <th>0</th>\n",
              "      <td>…often trigger a protest vote that can upset…that ministers who breach the Ministerial Code…plane up the M1 in order to…serious questions about abuse of taxpayers' money which is a clear breach of the code.…should not permit abuse of taxpayers' money…</td>\n",
              "      <td>[trigger, a, protest, vote, that, can, ministers, who, breach, the, Ministerial, up, the, in, order, questions, about, abuse, of, taxpayers, money, which, is, a, clear, breach, of, the, not, permit, abuse, of, taxpayers]</td>\n",
              "    </tr>\n",
              "    <tr>\n",
              "      <th>1</th>\n",
              "      <td>Stumbled across an interesting case, a woman facing eviction from the home that she inherited from her brother in 2007. Turns out her brother was in business with a notorious international criminal Paul Le Roux, who is currently serving 25 years in a New York prison.</td>\n",
              "      <td>[Stumbled, across, an, interesting, case, a, woman, facing, eviction, from, the, home, that, she, inherited, from, her, brother, in, Turns, out, her, brother, was, in, business, with, a, notorious, international, criminal, Paul, Le, Roux, who, is, currently, serving, years, in, a, New, York, prison]</td>\n",
              "    </tr>\n",
              "    <tr>\n",
              "      <th>2</th>\n",
              "      <td>…COVID-19…COVID…COVID…COVID-19 et Post COVID…COVID…Covid…BASF…COVID…COVID-19 3.4.1 Évaluation des risques liés au COVID-19 3.4.2 Évaluation de l’impact global du COVID-19 sur l’industrie 3.4.3 Scénario de marché avant et après COVID…covid…covid…</td>\n",
              "      <td>[et, Post, Évaluation, des, risques, liés, au, Évaluation, de, l, impact, global, du, sur, l, industrie, Scénario, de, marché, avant, et, après]</td>\n",
              "    </tr>\n",
              "    <tr>\n",
              "      <th>3</th>\n",
              "      <td>…hate raiders' linked to automated harassment campaigns [engadget](d.php?did=engadget.com) Texas law could force social media to host misinformation and hate speech [ars](d.php?did=arstechnica.com)…breach…shot on…stolen data…Killed…M1…Toxic…Attack…</td>\n",
              "      <td>[raiders, linked, to, automated, harassment, campaigns, engadget, Texas, law, could, force, social, media, to, host, misinformation, and, hate, speech, ars]</td>\n",
              "    </tr>\n",
              "    <tr>\n",
              "      <th>4</th>\n",
              "      <td>…Abschnitten und Endanwendungen / Organisationen. Covid-19 kann die Weltwirtschaft auf…/ Key-Player profiliert: Eastman Polynt Lanxess BASF Daicel Jiangsu Ruijia Jiangsu Lemon…Japan, wie Eastman, Lanxess, BASF, Daicel und Jiangsu Ruijia konzentriert.…</td>\n",
              "      <td>[und, Endanwendungen, Organisationen, kann, die, Weltwirtschaft, profiliert, Eastman, Polynt, Lanxess, BASF, Daicel, Jiangsu, Ruijia, Jiangsu, wie, Eastman, Lanxess, BASF, Daicel, und, Jiangsu, Ruijia]</td>\n",
              "    </tr>\n",
              "  </tbody>\n",
              "</table>\n",
              "</div>"
            ],
            "text/plain": [
              "                                                                                                                                                                                                                                                                   Description  \\\n",
              "0                  …often trigger a protest vote that can upset…that ministers who breach the Ministerial Code…plane up the M1 in order to…serious questions about abuse of taxpayers' money which is a clear breach of the code.…should not permit abuse of taxpayers' money…   \n",
              "1  Stumbled across an interesting case, a woman facing eviction from the home that she inherited from her brother in 2007. Turns out her brother was in business with a notorious international criminal Paul Le Roux, who is currently serving 25 years in a New York prison.   \n",
              "2                        …COVID-19…COVID…COVID…COVID-19 et Post COVID…COVID…Covid…BASF…COVID…COVID-19 3.4.1 Évaluation des risques liés au COVID-19 3.4.2 Évaluation de l’impact global du COVID-19 sur l’industrie 3.4.3 Scénario de marché avant et après COVID…covid…covid…   \n",
              "3                     …hate raiders' linked to automated harassment campaigns [engadget](d.php?did=engadget.com) Texas law could force social media to host misinformation and hate speech [ars](d.php?did=arstechnica.com)…breach…shot on…stolen data…Killed…M1…Toxic…Attack…   \n",
              "4                  …Abschnitten und Endanwendungen / Organisationen. Covid-19 kann die Weltwirtschaft auf…/ Key-Player profiliert: Eastman Polynt Lanxess BASF Daicel Jiangsu Ruijia Jiangsu Lemon…Japan, wie Eastman, Lanxess, BASF, Daicel und Jiangsu Ruijia konzentriert.…   \n",
              "\n",
              "                                                                                                                                                                                                                                                                                          tokenized_Description  \n",
              "0                                                                                  [trigger, a, protest, vote, that, can, ministers, who, breach, the, Ministerial, up, the, in, order, questions, about, abuse, of, taxpayers, money, which, is, a, clear, breach, of, the, not, permit, abuse, of, taxpayers]  \n",
              "1  [Stumbled, across, an, interesting, case, a, woman, facing, eviction, from, the, home, that, she, inherited, from, her, brother, in, Turns, out, her, brother, was, in, business, with, a, notorious, international, criminal, Paul, Le, Roux, who, is, currently, serving, years, in, a, New, York, prison]  \n",
              "2                                                                                                                                                              [et, Post, Évaluation, des, risques, liés, au, Évaluation, de, l, impact, global, du, sur, l, industrie, Scénario, de, marché, avant, et, après]  \n",
              "3                                                                                                                                                  [raiders, linked, to, automated, harassment, campaigns, engadget, Texas, law, could, force, social, media, to, host, misinformation, and, hate, speech, ars]  \n",
              "4                                                                                                     [und, Endanwendungen, Organisationen, kann, die, Weltwirtschaft, profiliert, Eastman, Polynt, Lanxess, BASF, Daicel, Jiangsu, Ruijia, Jiangsu, wie, Eastman, Lanxess, BASF, Daicel, und, Jiangsu, Ruijia]  "
            ]
          },
          "execution_count": 21,
          "metadata": {},
          "output_type": "execute_result"
        }
      ],
      "source": [
        "df['tokenized_Description'] = df.apply(lambda x: tokenize(x['Description']), axis=1)\n",
        "df[['Description', 'tokenized_Description']].head()"
      ]
    },
    {
      "cell_type": "code",
      "execution_count": 22,
      "id": "fc0b3c0e",
      "metadata": {},
      "outputs": [
        {
          "data": {
            "text/html": [
              "<div>\n",
              "<style scoped>\n",
              "    .dataframe tbody tr th:only-of-type {\n",
              "        vertical-align: middle;\n",
              "    }\n",
              "\n",
              "    .dataframe tbody tr th {\n",
              "        vertical-align: top;\n",
              "    }\n",
              "\n",
              "    .dataframe thead th {\n",
              "        text-align: right;\n",
              "    }\n",
              "</style>\n",
              "<table border=\"1\" class=\"dataframe\">\n",
              "  <thead>\n",
              "    <tr style=\"text-align: right;\">\n",
              "      <th></th>\n",
              "      <th>Title</th>\n",
              "      <th>tokenized_Title</th>\n",
              "    </tr>\n",
              "  </thead>\n",
              "  <tbody>\n",
              "    <tr>\n",
              "      <th>0</th>\n",
              "      <td>Boris Johnson using a taxpayer-funded jet for an election campaign fits a long history of taking things he didn't pay for</td>\n",
              "      <td>[Boris, Johnson, using, a, jet, for, an, election, campaign, fits, a, long, history, of, taking, things, he, did, pay, for]</td>\n",
              "    </tr>\n",
              "    <tr>\n",
              "      <th>1</th>\n",
              "      <td>Stumbled across an interesting case, a woman facing eviction from the home that she inherited from her brother in 2007. Turns out her brother was in business with a notorious international criminal Paul Le Roux, who is currently serving 25 years in a New York prison.</td>\n",
              "      <td>[Stumbled, across, an, interesting, case, a, woman, facing, eviction, from, the, home, that, she, inherited, from, her, brother, in, Turns, out, her, brother, was, in, business, with, a, notorious, international, criminal, Paul, Le, Roux, who, is, currently, serving, years, in, a, New, York, prison]</td>\n",
              "    </tr>\n",
              "    <tr>\n",
              "      <th>2</th>\n",
              "      <td>Marché Résines dans les peintures et revêtements 2021 avec les données des meilleurs pays et l’analyse Covid-19, la portée future, l’estimation de la taille, les revenus, les tendances des prix et les prévisions d’ici 2026</td>\n",
              "      <td>[Marché, Résines, dans, les, peintures, et, revêtements, avec, les, données, des, meilleurs, pays, et, l, analyse, la, portée, future, l, estimation, de, la, taille, les, revenus, les, tendances, des, prix, et, les, prévisions, d, ici]</td>\n",
              "    </tr>\n",
              "    <tr>\n",
              "      <th>3</th>\n",
              "      <td>AI drives data analytics surge, study finds</td>\n",
              "      <td>[AI, drives, data, analytics, surge, study, finds]</td>\n",
              "    </tr>\n",
              "    <tr>\n",
              "      <th>4</th>\n",
              "      <td>Triacetin Vertrieb Markt 2021: Globale Unternehmensanalyse, Merkmale, Marktplatzlänge und -prognosen bis zu 2027 mit Hauptregionen und Nationeninformationen</td>\n",
              "      <td>[Triacetin, Vertrieb, Markt, Globale, Unternehmensanalyse, Merkmale, Marktplatzlänge, und, bis, zu, mit, Hauptregionen, und, Nationeninformationen]</td>\n",
              "    </tr>\n",
              "  </tbody>\n",
              "</table>\n",
              "</div>"
            ],
            "text/plain": [
              "                                                                                                                                                                                                                                                                         Title  \\\n",
              "0                                                                                                                                                    Boris Johnson using a taxpayer-funded jet for an election campaign fits a long history of taking things he didn't pay for   \n",
              "1  Stumbled across an interesting case, a woman facing eviction from the home that she inherited from her brother in 2007. Turns out her brother was in business with a notorious international criminal Paul Le Roux, who is currently serving 25 years in a New York prison.   \n",
              "2                                               Marché Résines dans les peintures et revêtements 2021 avec les données des meilleurs pays et l’analyse Covid-19, la portée future, l’estimation de la taille, les revenus, les tendances des prix et les prévisions d’ici 2026   \n",
              "3                                                                                                                                                                                                                                  AI drives data analytics surge, study finds   \n",
              "4                                                                                                                 Triacetin Vertrieb Markt 2021: Globale Unternehmensanalyse, Merkmale, Marktplatzlänge und -prognosen bis zu 2027 mit Hauptregionen und Nationeninformationen   \n",
              "\n",
              "                                                                                                                                                                                                                                                                                                tokenized_Title  \n",
              "0                                                                                                                                                                                   [Boris, Johnson, using, a, jet, for, an, election, campaign, fits, a, long, history, of, taking, things, he, did, pay, for]  \n",
              "1  [Stumbled, across, an, interesting, case, a, woman, facing, eviction, from, the, home, that, she, inherited, from, her, brother, in, Turns, out, her, brother, was, in, business, with, a, notorious, international, criminal, Paul, Le, Roux, who, is, currently, serving, years, in, a, New, York, prison]  \n",
              "2                                                                   [Marché, Résines, dans, les, peintures, et, revêtements, avec, les, données, des, meilleurs, pays, et, l, analyse, la, portée, future, l, estimation, de, la, taille, les, revenus, les, tendances, des, prix, et, les, prévisions, d, ici]  \n",
              "3                                                                                                                                                                                                                                                            [AI, drives, data, analytics, surge, study, finds]  \n",
              "4                                                                                                                                                           [Triacetin, Vertrieb, Markt, Globale, Unternehmensanalyse, Merkmale, Marktplatzlänge, und, bis, zu, mit, Hauptregionen, und, Nationeninformationen]  "
            ]
          },
          "execution_count": 22,
          "metadata": {},
          "output_type": "execute_result"
        }
      ],
      "source": [
        "df['tokenized_Title'] = df.apply(lambda x: tokenize(x['Title']), axis=1)\n",
        "df[['Title', 'tokenized_Title']].head()"
      ]
    },
    {
      "cell_type": "markdown",
      "id": "5f9c0ab0",
      "metadata": {},
      "source": [
        "# Step 2: Stopword removal"
      ]
    },
    {
      "cell_type": "code",
      "execution_count": 31,
      "id": "d5d84849",
      "metadata": {},
      "outputs": [
        {
          "name": "stderr",
          "output_type": "stream",
          "text": [
            "[nltk_data] Downloading package stopwords to\n",
            "[nltk_data]     C:\\Users\\mohammed\\AppData\\Roaming\\nltk_data...\n",
            "[nltk_data]   Package stopwords is already up-to-date!\n"
          ]
        }
      ],
      "source": [
        "nltk.download('stopwords')\n",
        "from nltk.corpus import stopwords"
      ]
    },
    {
      "cell_type": "code",
      "execution_count": 32,
      "id": "9e5e3b1b",
      "metadata": {},
      "outputs": [],
      "source": [
        "def remove_stopwords(tokenized_column):\n",
        "    \"\"\"Return a list of tokens with English stopwords removed. \n",
        "\n",
        "    Args:\n",
        "        column: Pandas dataframe column of tokenized data from tokenize()\n",
        "\n",
        "    Returns:\n",
        "        tokens (list): Tokenized list with stopwords removed.\n",
        "\n",
        "    \"\"\"\n",
        "    stops = set(stopwords.words(\"english\"))\n",
        "    return [word for word in tokenized_column if not word in stops]"
      ]
    },
    {
      "cell_type": "code",
      "execution_count": 33,
      "id": "6eb2b52c",
      "metadata": {},
      "outputs": [
        {
          "data": {
            "text/html": [
              "<div>\n",
              "<style scoped>\n",
              "    .dataframe tbody tr th:only-of-type {\n",
              "        vertical-align: middle;\n",
              "    }\n",
              "\n",
              "    .dataframe tbody tr th {\n",
              "        vertical-align: top;\n",
              "    }\n",
              "\n",
              "    .dataframe thead th {\n",
              "        text-align: right;\n",
              "    }\n",
              "</style>\n",
              "<table border=\"1\" class=\"dataframe\">\n",
              "  <thead>\n",
              "    <tr style=\"text-align: right;\">\n",
              "      <th></th>\n",
              "      <th>Description</th>\n",
              "      <th>DS_stopwords_removed</th>\n",
              "    </tr>\n",
              "  </thead>\n",
              "  <tbody>\n",
              "    <tr>\n",
              "      <th>0</th>\n",
              "      <td>…often trigger a protest vote that can upset…that ministers who breach the Ministerial Code…plane up the M1 in order to…serious questions about abuse of taxpayers' money which is a clear breach of the code.…should not permit abuse of taxpayers' money…</td>\n",
              "      <td>[trigger, protest, vote, ministers, breach, Ministerial, order, questions, abuse, taxpayers, money, clear, breach, permit, abuse, taxpayers]</td>\n",
              "    </tr>\n",
              "    <tr>\n",
              "      <th>1</th>\n",
              "      <td>Stumbled across an interesting case, a woman facing eviction from the home that she inherited from her brother in 2007. Turns out her brother was in business with a notorious international criminal Paul Le Roux, who is currently serving 25 years in a New York prison.</td>\n",
              "      <td>[Stumbled, across, interesting, case, woman, facing, eviction, home, inherited, brother, Turns, brother, business, notorious, international, criminal, Paul, Le, Roux, currently, serving, years, New, York, prison]</td>\n",
              "    </tr>\n",
              "    <tr>\n",
              "      <th>2</th>\n",
              "      <td>…COVID-19…COVID…COVID…COVID-19 et Post COVID…COVID…Covid…BASF…COVID…COVID-19 3.4.1 Évaluation des risques liés au COVID-19 3.4.2 Évaluation de l’impact global du COVID-19 sur l’industrie 3.4.3 Scénario de marché avant et après COVID…covid…covid…</td>\n",
              "      <td>[et, Post, Évaluation, des, risques, liés, au, Évaluation, de, l, impact, global, du, sur, l, industrie, Scénario, de, marché, avant, et, après]</td>\n",
              "    </tr>\n",
              "    <tr>\n",
              "      <th>3</th>\n",
              "      <td>…hate raiders' linked to automated harassment campaigns [engadget](d.php?did=engadget.com) Texas law could force social media to host misinformation and hate speech [ars](d.php?did=arstechnica.com)…breach…shot on…stolen data…Killed…M1…Toxic…Attack…</td>\n",
              "      <td>[raiders, linked, automated, harassment, campaigns, engadget, Texas, law, could, force, social, media, host, misinformation, hate, speech, ars]</td>\n",
              "    </tr>\n",
              "    <tr>\n",
              "      <th>4</th>\n",
              "      <td>…Abschnitten und Endanwendungen / Organisationen. Covid-19 kann die Weltwirtschaft auf…/ Key-Player profiliert: Eastman Polynt Lanxess BASF Daicel Jiangsu Ruijia Jiangsu Lemon…Japan, wie Eastman, Lanxess, BASF, Daicel und Jiangsu Ruijia konzentriert.…</td>\n",
              "      <td>[und, Endanwendungen, Organisationen, kann, die, Weltwirtschaft, profiliert, Eastman, Polynt, Lanxess, BASF, Daicel, Jiangsu, Ruijia, Jiangsu, wie, Eastman, Lanxess, BASF, Daicel, und, Jiangsu, Ruijia]</td>\n",
              "    </tr>\n",
              "  </tbody>\n",
              "</table>\n",
              "</div>"
            ],
            "text/plain": [
              "                                                                                                                                                                                                                                                                   Description  \\\n",
              "0                  …often trigger a protest vote that can upset…that ministers who breach the Ministerial Code…plane up the M1 in order to…serious questions about abuse of taxpayers' money which is a clear breach of the code.…should not permit abuse of taxpayers' money…   \n",
              "1  Stumbled across an interesting case, a woman facing eviction from the home that she inherited from her brother in 2007. Turns out her brother was in business with a notorious international criminal Paul Le Roux, who is currently serving 25 years in a New York prison.   \n",
              "2                        …COVID-19…COVID…COVID…COVID-19 et Post COVID…COVID…Covid…BASF…COVID…COVID-19 3.4.1 Évaluation des risques liés au COVID-19 3.4.2 Évaluation de l’impact global du COVID-19 sur l’industrie 3.4.3 Scénario de marché avant et après COVID…covid…covid…   \n",
              "3                     …hate raiders' linked to automated harassment campaigns [engadget](d.php?did=engadget.com) Texas law could force social media to host misinformation and hate speech [ars](d.php?did=arstechnica.com)…breach…shot on…stolen data…Killed…M1…Toxic…Attack…   \n",
              "4                  …Abschnitten und Endanwendungen / Organisationen. Covid-19 kann die Weltwirtschaft auf…/ Key-Player profiliert: Eastman Polynt Lanxess BASF Daicel Jiangsu Ruijia Jiangsu Lemon…Japan, wie Eastman, Lanxess, BASF, Daicel und Jiangsu Ruijia konzentriert.…   \n",
              "\n",
              "                                                                                                                                                                                                   DS_stopwords_removed  \n",
              "0                                                                          [trigger, protest, vote, ministers, breach, Ministerial, order, questions, abuse, taxpayers, money, clear, breach, permit, abuse, taxpayers]  \n",
              "1  [Stumbled, across, interesting, case, woman, facing, eviction, home, inherited, brother, Turns, brother, business, notorious, international, criminal, Paul, Le, Roux, currently, serving, years, New, York, prison]  \n",
              "2                                                                      [et, Post, Évaluation, des, risques, liés, au, Évaluation, de, l, impact, global, du, sur, l, industrie, Scénario, de, marché, avant, et, après]  \n",
              "3                                                                       [raiders, linked, automated, harassment, campaigns, engadget, Texas, law, could, force, social, media, host, misinformation, hate, speech, ars]  \n",
              "4             [und, Endanwendungen, Organisationen, kann, die, Weltwirtschaft, profiliert, Eastman, Polynt, Lanxess, BASF, Daicel, Jiangsu, Ruijia, Jiangsu, wie, Eastman, Lanxess, BASF, Daicel, und, Jiangsu, Ruijia]  "
            ]
          },
          "execution_count": 33,
          "metadata": {},
          "output_type": "execute_result"
        }
      ],
      "source": [
        "df['DS_stopwords_removed'] = df.apply(lambda x: remove_stopwords(x['tokenized_Description']), axis=1)\n",
        "df[['Description', 'DS_stopwords_removed']].head()"
      ]
    },
    {
      "cell_type": "code",
      "execution_count": 34,
      "id": "e2562c0c",
      "metadata": {},
      "outputs": [
        {
          "data": {
            "text/html": [
              "<div>\n",
              "<style scoped>\n",
              "    .dataframe tbody tr th:only-of-type {\n",
              "        vertical-align: middle;\n",
              "    }\n",
              "\n",
              "    .dataframe tbody tr th {\n",
              "        vertical-align: top;\n",
              "    }\n",
              "\n",
              "    .dataframe thead th {\n",
              "        text-align: right;\n",
              "    }\n",
              "</style>\n",
              "<table border=\"1\" class=\"dataframe\">\n",
              "  <thead>\n",
              "    <tr style=\"text-align: right;\">\n",
              "      <th></th>\n",
              "      <th>Title</th>\n",
              "      <th>T_stopwords_removed</th>\n",
              "    </tr>\n",
              "  </thead>\n",
              "  <tbody>\n",
              "    <tr>\n",
              "      <th>0</th>\n",
              "      <td>Boris Johnson using a taxpayer-funded jet for an election campaign fits a long history of taking things he didn't pay for</td>\n",
              "      <td>[Boris, Johnson, using, jet, election, campaign, fits, long, history, taking, things, pay]</td>\n",
              "    </tr>\n",
              "    <tr>\n",
              "      <th>1</th>\n",
              "      <td>Stumbled across an interesting case, a woman facing eviction from the home that she inherited from her brother in 2007. Turns out her brother was in business with a notorious international criminal Paul Le Roux, who is currently serving 25 years in a New York prison.</td>\n",
              "      <td>[Stumbled, across, interesting, case, woman, facing, eviction, home, inherited, brother, Turns, brother, business, notorious, international, criminal, Paul, Le, Roux, currently, serving, years, New, York, prison]</td>\n",
              "    </tr>\n",
              "    <tr>\n",
              "      <th>2</th>\n",
              "      <td>Marché Résines dans les peintures et revêtements 2021 avec les données des meilleurs pays et l’analyse Covid-19, la portée future, l’estimation de la taille, les revenus, les tendances des prix et les prévisions d’ici 2026</td>\n",
              "      <td>[Marché, Résines, dans, les, peintures, et, revêtements, avec, les, données, des, meilleurs, pays, et, l, analyse, la, portée, future, l, estimation, de, la, taille, les, revenus, les, tendances, des, prix, et, les, prévisions, ici]</td>\n",
              "    </tr>\n",
              "    <tr>\n",
              "      <th>3</th>\n",
              "      <td>AI drives data analytics surge, study finds</td>\n",
              "      <td>[AI, drives, data, analytics, surge, study, finds]</td>\n",
              "    </tr>\n",
              "    <tr>\n",
              "      <th>4</th>\n",
              "      <td>Triacetin Vertrieb Markt 2021: Globale Unternehmensanalyse, Merkmale, Marktplatzlänge und -prognosen bis zu 2027 mit Hauptregionen und Nationeninformationen</td>\n",
              "      <td>[Triacetin, Vertrieb, Markt, Globale, Unternehmensanalyse, Merkmale, Marktplatzlänge, und, bis, zu, mit, Hauptregionen, und, Nationeninformationen]</td>\n",
              "    </tr>\n",
              "  </tbody>\n",
              "</table>\n",
              "</div>"
            ],
            "text/plain": [
              "                                                                                                                                                                                                                                                                         Title  \\\n",
              "0                                                                                                                                                    Boris Johnson using a taxpayer-funded jet for an election campaign fits a long history of taking things he didn't pay for   \n",
              "1  Stumbled across an interesting case, a woman facing eviction from the home that she inherited from her brother in 2007. Turns out her brother was in business with a notorious international criminal Paul Le Roux, who is currently serving 25 years in a New York prison.   \n",
              "2                                               Marché Résines dans les peintures et revêtements 2021 avec les données des meilleurs pays et l’analyse Covid-19, la portée future, l’estimation de la taille, les revenus, les tendances des prix et les prévisions d’ici 2026   \n",
              "3                                                                                                                                                                                                                                  AI drives data analytics surge, study finds   \n",
              "4                                                                                                                 Triacetin Vertrieb Markt 2021: Globale Unternehmensanalyse, Merkmale, Marktplatzlänge und -prognosen bis zu 2027 mit Hauptregionen und Nationeninformationen   \n",
              "\n",
              "                                                                                                                                                                                                                        T_stopwords_removed  \n",
              "0                                                                                                                                                [Boris, Johnson, using, jet, election, campaign, fits, long, history, taking, things, pay]  \n",
              "1                      [Stumbled, across, interesting, case, woman, facing, eviction, home, inherited, brother, Turns, brother, business, notorious, international, criminal, Paul, Le, Roux, currently, serving, years, New, York, prison]  \n",
              "2  [Marché, Résines, dans, les, peintures, et, revêtements, avec, les, données, des, meilleurs, pays, et, l, analyse, la, portée, future, l, estimation, de, la, taille, les, revenus, les, tendances, des, prix, et, les, prévisions, ici]  \n",
              "3                                                                                                                                                                                        [AI, drives, data, analytics, surge, study, finds]  \n",
              "4                                                                                       [Triacetin, Vertrieb, Markt, Globale, Unternehmensanalyse, Merkmale, Marktplatzlänge, und, bis, zu, mit, Hauptregionen, und, Nationeninformationen]  "
            ]
          },
          "execution_count": 34,
          "metadata": {},
          "output_type": "execute_result"
        }
      ],
      "source": [
        "df['T_stopwords_removed'] = df.apply(lambda x: remove_stopwords(x['tokenized_Title']), axis=1)\n",
        "df[['Title', 'T_stopwords_removed']].head()"
      ]
    },
    {
      "cell_type": "markdown",
      "id": "49d91ac7",
      "metadata": {},
      "source": [
        "# Step 3: Stemming"
      ]
    },
    {
      "cell_type": "code",
      "execution_count": 35,
      "id": "184a3de9",
      "metadata": {},
      "outputs": [],
      "source": [
        "from nltk.stem.porter import PorterStemmer\n",
        "def apply_stemming(tokenized_column):\n",
        "    \"\"\"Return a list of tokens with Porter stemming applied.\n",
        "\n",
        "    Args:\n",
        "        column: Pandas dataframe column of tokenized data with stopwords removed.\n",
        "\n",
        "    Returns:\n",
        "        tokens (list): Tokenized list with words Porter stemmed.\n",
        "\n",
        "    \"\"\"\n",
        "\n",
        "    stemmer = PorterStemmer() \n",
        "    return [stemmer.stem(word) for word in tokenized_column]"
      ]
    },
    {
      "cell_type": "code",
      "execution_count": 36,
      "metadata": {},
      "outputs": [
        {
          "data": {
            "text/html": [
              "<div>\n",
              "<style scoped>\n",
              "    .dataframe tbody tr th:only-of-type {\n",
              "        vertical-align: middle;\n",
              "    }\n",
              "\n",
              "    .dataframe tbody tr th {\n",
              "        vertical-align: top;\n",
              "    }\n",
              "\n",
              "    .dataframe thead th {\n",
              "        text-align: right;\n",
              "    }\n",
              "</style>\n",
              "<table border=\"1\" class=\"dataframe\">\n",
              "  <thead>\n",
              "    <tr style=\"text-align: right;\">\n",
              "      <th></th>\n",
              "      <th>DS_porter_stemmed</th>\n",
              "    </tr>\n",
              "  </thead>\n",
              "  <tbody>\n",
              "    <tr>\n",
              "      <th>0</th>\n",
              "      <td>[trigger, protest, vote, minist, breach, ministeri, order, question, abus, taxpay, money, clear, breach, permit, abus, taxpay]</td>\n",
              "    </tr>\n",
              "    <tr>\n",
              "      <th>1</th>\n",
              "      <td>[stumbl, across, interest, case, woman, face, evict, home, inherit, brother, turn, brother, busi, notori, intern, crimin, paul, le, roux, current, serv, year, new, york, prison]</td>\n",
              "    </tr>\n",
              "    <tr>\n",
              "      <th>2</th>\n",
              "      <td>[et, post, évaluat, de, risqu, lié, au, évaluat, de, l, impact, global, du, sur, l, industri, scénario, de, marché, avant, et, aprè]</td>\n",
              "    </tr>\n",
              "    <tr>\n",
              "      <th>3</th>\n",
              "      <td>[raider, link, autom, harass, campaign, engadget, texa, law, could, forc, social, media, host, misinform, hate, speech, ar]</td>\n",
              "    </tr>\n",
              "    <tr>\n",
              "      <th>4</th>\n",
              "      <td>[und, endanwendungen, organisationen, kann, die, weltwirtschaft, profiliert, eastman, polynt, lanxess, basf, daicel, jiangsu, ruijia, jiangsu, wie, eastman, lanxess, basf, daicel, und, jiangsu, ruijia]</td>\n",
              "    </tr>\n",
              "  </tbody>\n",
              "</table>\n",
              "</div>"
            ],
            "text/plain": [
              "                                                                                                                                                                                           DS_porter_stemmed\n",
              "0                                                                             [trigger, protest, vote, minist, breach, ministeri, order, question, abus, taxpay, money, clear, breach, permit, abus, taxpay]\n",
              "1                          [stumbl, across, interest, case, woman, face, evict, home, inherit, brother, turn, brother, busi, notori, intern, crimin, paul, le, roux, current, serv, year, new, york, prison]\n",
              "2                                                                       [et, post, évaluat, de, risqu, lié, au, évaluat, de, l, impact, global, du, sur, l, industri, scénario, de, marché, avant, et, aprè]\n",
              "3                                                                                [raider, link, autom, harass, campaign, engadget, texa, law, could, forc, social, media, host, misinform, hate, speech, ar]\n",
              "4  [und, endanwendungen, organisationen, kann, die, weltwirtschaft, profiliert, eastman, polynt, lanxess, basf, daicel, jiangsu, ruijia, jiangsu, wie, eastman, lanxess, basf, daicel, und, jiangsu, ruijia]"
            ]
          },
          "execution_count": 36,
          "metadata": {},
          "output_type": "execute_result"
        }
      ],
      "source": [
        "df['DS_porter_stemmed'] = df.apply(lambda x: apply_stemming(x['DS_stopwords_removed']), axis=1)\n",
        "df[['DS_porter_stemmed']].head()"
      ]
    },
    {
      "cell_type": "code",
      "execution_count": 38,
      "id": "b19f4ab9",
      "metadata": {},
      "outputs": [
        {
          "data": {
            "text/plain": [
              "0                                                                                                     [bori, johnson, use, jet, elect, campaign, fit, long, histori, take, thing, pay]\n",
              "1    [stumbl, across, interest, case, woman, face, evict, home, inherit, brother, turn, brother, busi, notori, intern, crimin, paul, le, roux, current, serv, year, new, york, prison]\n",
              "Name: T_porter_stemmed, dtype: object"
            ]
          },
          "execution_count": 38,
          "metadata": {},
          "output_type": "execute_result"
        }
      ],
      "source": [
        "df['T_porter_stemmed'] = df.apply(lambda x: apply_stemming(x['T_stopwords_removed']), axis=1)\n",
        "df['T_porter_stemmed'].head(2)"
      ]
    },
    {
      "cell_type": "code",
      "execution_count": 41,
      "id": "8432ad40",
      "metadata": {},
      "outputs": [],
      "source": [
        "def rejoin_words(tokenized_column):\n",
        "    \"\"\"Rejoins a tokenized word list into a single string. \n",
        "    \n",
        "    Args:\n",
        "        tokenized_column (list): Tokenized column of words. \n",
        "        \n",
        "    Returns:\n",
        "        string: Single string of untokenized words. \n",
        "    \"\"\"\n",
        "    \n",
        "    return ( \" \".join(tokenized_column))"
      ]
    },
    {
      "cell_type": "code",
      "execution_count": 44,
      "id": "ecc6af9f",
      "metadata": {},
      "outputs": [
        {
          "data": {
            "text/plain": [
              "0                                                                        trigger protest vote minist breach ministeri order question abus taxpay money clear breach permit abus taxpay\n",
              "1                              stumbl across interest case woman face evict home inherit brother turn brother busi notori intern crimin paul le roux current serv year new york prison\n",
              "2                                                                        et post évaluat de risqu lié au évaluat de l impact global du sur l industri scénario de marché avant et aprè\n",
              "3                                                                            raider link autom harass campaign engadget texa law could forc social media host misinform hate speech ar\n",
              "4    und endanwendungen organisationen kann die weltwirtschaft profiliert eastman polynt lanxess basf daicel jiangsu ruijia jiangsu wie eastman lanxess basf daicel und jiangsu ruijia\n",
              "Name: DS_rejoined, dtype: object"
            ]
          },
          "execution_count": 44,
          "metadata": {},
          "output_type": "execute_result"
        }
      ],
      "source": [
        "df['DS_rejoined'] = df.apply(lambda x: rejoin_words(x['DS_porter_stemmed']), axis=1)\n",
        "df['DS_rejoined'].head()"
      ]
    },
    {
      "cell_type": "code",
      "execution_count": 42,
      "id": "c12c0908",
      "metadata": {},
      "outputs": [
        {
          "data": {
            "text/plain": [
              "0                                                                                                         bori johnson use jet elect campaign fit long histori take thing pay\n",
              "1                     stumbl across interest case woman face evict home inherit brother turn brother busi notori intern crimin paul le roux current serv year new york prison\n",
              "2    marché résine dan le peintur et revêtement avec le donné de meilleur pay et l analys la porté futur l estim de la taill le revenu le tendanc de prix et le prévision ici\n",
              "Name: T_rejoined, dtype: object"
            ]
          },
          "execution_count": 42,
          "metadata": {},
          "output_type": "execute_result"
        }
      ],
      "source": [
        "df['T_rejoined'] = df.apply(lambda x: rejoin_words(x['T_porter_stemmed']), axis=1)\n",
        "df['T_rejoined'].head(3)"
      ]
    },
    {
      "cell_type": "code",
      "execution_count": 45,
      "id": "f9a0c1a0",
      "metadata": {},
      "outputs": [
        {
          "data": {
            "text/plain": [
              "Index(['Domain', 'Title', 'Description', 'Body', 'Link', 'timestamp',\n",
              "       'Analyst_Average_Score', 'Analyst_Rank', 'Reference_Final_Score',\n",
              "       'tokenized_Description', 'tokenized_Title', 'DS_stopwords_removed',\n",
              "       'T_stopwords_removed', 'DS_porter_stemmed', 'T_porter_stemmed',\n",
              "       'T_rejoined', 'DS_rejoined'],\n",
              "      dtype='object')"
            ]
          },
          "execution_count": 45,
          "metadata": {},
          "output_type": "execute_result"
        }
      ],
      "source": [
        "df.columns"
      ]
    },
    {
      "cell_type": "code",
      "execution_count": 47,
      "id": "f1bb17db",
      "metadata": {},
      "outputs": [],
      "source": [
        "df.to_csv('../data/preprocessed_news_data.csv')"
      ]
    },
    {
      "cell_type": "markdown",
      "id": "e78c4f33-3d35-448c-b511-e5150bbe951c",
      "metadata": {
        "id": "e78c4f33-3d35-448c-b511-e5150bbe951c"
      },
      "source": [
        "You'll need your API key for this next cell. [Sign up to Cohere](https://os.cohere.ai/) and get one if you haven't yet."
      ]
    },
    {
      "cell_type": "code",
      "execution_count": null,
      "id": "9c1554a9-9203-4ca9-9711-aa9ce051721e",
      "metadata": {
        "id": "9c1554a9-9203-4ca9-9711-aa9ce051721e"
      },
      "outputs": [],
      "source": [
        "# Paste your API key here. Remember to not share publicly\n",
        "api_key = '9Y0OqZQHpfb7vVrypsRXChE8VZzVAmZMCtmbIrhu'\n",
        "\n",
        "# Create and retrieve a Cohere API key from os.cohere.ai\n",
        "co = cohere.Client(api_key)"
      ]
    },
    {
      "cell_type": "code",
      "execution_count": 51,
      "id": "a10e6784-6e8b-4a17-83fd-ec34d90c90c6",
      "metadata": {
        "id": "a10e6784-6e8b-4a17-83fd-ec34d90c90c6",
        "tags": []
      },
      "outputs": [
        {
          "data": {
            "text/html": [
              "<div>\n",
              "<style scoped>\n",
              "    .dataframe tbody tr th:only-of-type {\n",
              "        vertical-align: middle;\n",
              "    }\n",
              "\n",
              "    .dataframe tbody tr th {\n",
              "        vertical-align: top;\n",
              "    }\n",
              "\n",
              "    .dataframe thead th {\n",
              "        text-align: right;\n",
              "    }\n",
              "</style>\n",
              "<table border=\"1\" class=\"dataframe\">\n",
              "  <thead>\n",
              "    <tr style=\"text-align: right;\">\n",
              "      <th></th>\n",
              "      <th>Analyst_Average_Score</th>\n",
              "      <th>Analyst_Rank</th>\n",
              "      <th>Reference_Final_Score</th>\n",
              "    </tr>\n",
              "  </thead>\n",
              "  <tbody>\n",
              "    <tr>\n",
              "      <th>0</th>\n",
              "      <td>0.00</td>\n",
              "      <td>4</td>\n",
              "      <td>1.96</td>\n",
              "    </tr>\n",
              "    <tr>\n",
              "      <th>1</th>\n",
              "      <td>0.00</td>\n",
              "      <td>4</td>\n",
              "      <td>12.00</td>\n",
              "    </tr>\n",
              "    <tr>\n",
              "      <th>2</th>\n",
              "      <td>0.00</td>\n",
              "      <td>4</td>\n",
              "      <td>0.05</td>\n",
              "    </tr>\n",
              "    <tr>\n",
              "      <th>3</th>\n",
              "      <td>0.00</td>\n",
              "      <td>4</td>\n",
              "      <td>6.10</td>\n",
              "    </tr>\n",
              "    <tr>\n",
              "      <th>4</th>\n",
              "      <td>0.00</td>\n",
              "      <td>4</td>\n",
              "      <td>0.13</td>\n",
              "    </tr>\n",
              "    <tr>\n",
              "      <th>5</th>\n",
              "      <td>1.33</td>\n",
              "      <td>2</td>\n",
              "      <td>11.00</td>\n",
              "    </tr>\n",
              "    <tr>\n",
              "      <th>6</th>\n",
              "      <td>0.00</td>\n",
              "      <td>4</td>\n",
              "      <td>10.10</td>\n",
              "    </tr>\n",
              "    <tr>\n",
              "      <th>7</th>\n",
              "      <td>1.66</td>\n",
              "      <td>1</td>\n",
              "      <td>1.36</td>\n",
              "    </tr>\n",
              "    <tr>\n",
              "      <th>8</th>\n",
              "      <td>0.33</td>\n",
              "      <td>3</td>\n",
              "      <td>2.40</td>\n",
              "    </tr>\n",
              "    <tr>\n",
              "      <th>9</th>\n",
              "      <td>0.00</td>\n",
              "      <td>4</td>\n",
              "      <td>0.22</td>\n",
              "    </tr>\n",
              "  </tbody>\n",
              "</table>\n",
              "</div>"
            ],
            "text/plain": [
              "   Analyst_Average_Score  Analyst_Rank  Reference_Final_Score\n",
              "0                   0.00             4                   1.96\n",
              "1                   0.00             4                  12.00\n",
              "2                   0.00             4                   0.05\n",
              "3                   0.00             4                   6.10\n",
              "4                   0.00             4                   0.13\n",
              "5                   1.33             2                  11.00\n",
              "6                   0.00             4                  10.10\n",
              "7                   1.66             1                   1.36\n",
              "8                   0.33             3                   2.40\n",
              "9                   0.00             4                   0.22"
            ]
          },
          "execution_count": 51,
          "metadata": {},
          "output_type": "execute_result"
        }
      ],
      "source": [
        "df[['Analyst_Average_Score','Analyst_Rank','Reference_Final_Score']]"
      ]
    },
    {
      "cell_type": "code",
      "execution_count": 49,
      "id": "0ae89a2b-9f94-4e1e-8d00-378cc1b48149",
      "metadata": {
        "id": "0ae89a2b-9f94-4e1e-8d00-378cc1b48149"
      },
      "outputs": [
        {
          "ename": "NameError",
          "evalue": "name 'news_examples' is not defined",
          "output_type": "error",
          "traceback": [
            "\u001b[1;31m---------------------------------------------------------------------------\u001b[0m",
            "\u001b[1;31mNameError\u001b[0m                                 Traceback (most recent call last)",
            "\u001b[1;32m<ipython-input-49-aaf0102ce71e>\u001b[0m in \u001b[0;36m<module>\u001b[1;34m\u001b[0m\n\u001b[0;32m     27\u001b[0m \u001b[1;33m\u001b[0m\u001b[0m\n\u001b[0;32m     28\u001b[0m \u001b[1;33m\u001b[0m\u001b[0m\n\u001b[1;32m---> 29\u001b[1;33m coherenewsExtractor = cohereExtractor([e[1] for e in news_examples], \n\u001b[0m\u001b[0;32m     30\u001b[0m                                        \u001b[1;33m[\u001b[0m\u001b[0me\u001b[0m\u001b[1;33m[\u001b[0m\u001b[1;36m0\u001b[0m\u001b[1;33m]\u001b[0m \u001b[1;32mfor\u001b[0m \u001b[0me\u001b[0m \u001b[1;32min\u001b[0m \u001b[0mnews_examples\u001b[0m\u001b[1;33m]\u001b[0m\u001b[1;33m,\u001b[0m \u001b[1;33m[\u001b[0m\u001b[1;33m]\u001b[0m\u001b[1;33m,\u001b[0m\u001b[1;33m\u001b[0m\u001b[1;33m\u001b[0m\u001b[0m\n\u001b[0;32m     31\u001b[0m                                        \u001b[1;34m\"\"\u001b[0m\u001b[1;33m,\u001b[0m\u001b[1;33m\u001b[0m\u001b[1;33m\u001b[0m\u001b[0m\n",
            "\u001b[1;31mNameError\u001b[0m: name 'news_examples' is not defined"
          ]
        }
      ],
      "source": [
        "#@title Create the prompt (Run this cell to execute required code) {display-mode: \"form\"}\n",
        "\n",
        "class cohereExtractor():\n",
        "    def __init__(self, examples, example_labels, labels, task_desciption, example_prompt):\n",
        "        self.examples = examples\n",
        "        self.example_labels = example_labels\n",
        "        self.labels = labels\n",
        "        self.task_desciption = task_desciption\n",
        "        self.example_prompt = example_prompt\n",
        "\n",
        "    def make_prompt(self, example):\n",
        "        examples = self.examples + [example]\n",
        "        labels = self.example_labels + [\"\"]\n",
        "        return (self.task_desciption +\n",
        "                \"\\n---\\n\".join( [examples[i] + \"\\n\" +\n",
        "                                self.example_prompt + \n",
        "                                 labels[i] for i in range(len(examples))]))\n",
        "\n",
        "    def extract(self, example):\n",
        "      extraction = co.generate(\n",
        "          model='large',\n",
        "          prompt=self.make_prompt(example),\n",
        "          max_tokens=10,\n",
        "          temperature=0.1,\n",
        "          stop_sequences=[\"\\n\"])\n",
        "      return(extraction.generations[0].text[:-1])\n",
        "\n",
        "\n",
        "coherenewsExtractor = cohereExtractor([e[1] for e in news_examples], \n",
        "                                       [e[0] for e in news_examples], [],\n",
        "                                       \"\", \n",
        "                                       \"extract the news title from the post:\")\n",
        "\n",
        "# Uncomment to inspect the full prompt:\n",
        "# print(coherenewsExtractor.make_prompt('<input text here>'))"
      ]
    },
    {
      "cell_type": "code",
      "execution_count": null,
      "id": "Fw8V9H2EF16U",
      "metadata": {
        "colab": {
          "base_uri": "https://localhost:8080/"
        },
        "id": "Fw8V9H2EF16U",
        "outputId": "a4a703a6-8921-4e70-fc71-06bc70a5d52b"
      },
      "outputs": [
        {
          "name": "stdout",
          "output_type": "stream",
          "text": [
            "<input text here>\n",
            "extract the news title from the post:\n"
          ]
        }
      ],
      "source": [
        "# This is what the prompt looks like:\n",
        "print(coherenewsExtractor.make_prompt('<input text here>'))"
      ]
    },
    {
      "cell_type": "markdown",
      "id": "aa02636a-eb2c-4096-a84e-5a8fb5f8249b",
      "metadata": {
        "id": "aa02636a-eb2c-4096-a84e-5a8fb5f8249b"
      },
      "source": [
        "## Getting the data\n"
      ]
    },
    {
      "cell_type": "code",
      "execution_count": null,
      "id": "d569e098-d97e-41c2-93c7-7f10e09eb53d",
      "metadata": {
        "id": "d569e098-d97e-41c2-93c7-7f10e09eb53d"
      },
      "outputs": [],
      "source": [
        "num_posts = 10\n",
        "\n",
        "movies_list = get_post_titles(size=num_posts, \n",
        "      after=str(int(datetime.datetime(2021,1,1,0,0).timestamp())), \n",
        "      before=str(int(datetime.datetime(2022,1,1,0,0).timestamp())), \n",
        "      subreddit=\"movies\", \n",
        "      sort_type=\"score\", \n",
        "      sort=\"desc\")\n",
        "\n",
        "# Show the list\n",
        "movies_list"
      ]
    },
    {
      "cell_type": "markdown",
      "id": "29be719c-6ac9-49e1-a01c-e9ecac01c681",
      "metadata": {
        "id": "29be719c-6ac9-49e1-a01c-e9ecac01c681"
      },
      "source": [
        "## Running the model\n",
        "And now we loop over the posts and process each one of them with our extractor."
      ]
    },
    {
      "cell_type": "code",
      "execution_count": null,
      "id": "999dad3e-7152-440d-bec9-ae8a89f10b8f",
      "metadata": {
        "colab": {
          "base_uri": "https://localhost:8080/"
        },
        "id": "999dad3e-7152-440d-bec9-ae8a89f10b8f",
        "outputId": "40c8ce64-793b-42bf-b44e-8ee07c0a7379",
        "tags": []
      },
      "outputs": [
        {
          "name": "stderr",
          "output_type": "stream",
          "text": [
            "100%|██████████| 10/10 [00:10<00:00,  1.09s/it]\n"
          ]
        }
      ],
      "source": [
        "results = []\n",
        "for text in tqdm(movies_list):\n",
        "    try:\n",
        "        extracted_text = coherenewsExtractor.extract(text)\n",
        "        results.append(extracted_text)\n",
        "    except Exception as e:\n",
        "        print('ERROR: ', e)"
      ]
    },
    {
      "cell_type": "markdown",
      "id": "a6a56981-5320-47d9-96bf-cf2b90278964",
      "metadata": {
        "id": "a6a56981-5320-47d9-96bf-cf2b90278964"
      },
      "source": [
        "Let's look at the results:"
      ]
    },
    {
      "cell_type": "code",
      "execution_count": null,
      "id": "296d7bde-c01e-48e2-bf41-24624307eca7",
      "metadata": {
        "id": "296d7bde-c01e-48e2-bf41-24624307eca7"
      },
      "outputs": [],
      "source": [
        "pd.DataFrame(data={'text': movies_list, 'extracted_text': results})"
      ]
    },
    {
      "cell_type": "code",
      "execution_count": null,
      "id": "f39dd295-debd-48d3-ad30-76068e4e47e6",
      "metadata": {
        "id": "f39dd295-debd-48d3-ad30-76068e4e47e6",
        "tags": []
      },
      "outputs": [],
      "source": [
        "test_df = pd.read_csv('https://raw.githubusercontent.com/cohere-ai/notebooks/main/notebooks/data/movie_extraction_test_set_100.csv',index_col=0)\n",
        "test_df"
      ]
    },
    {
      "cell_type": "markdown",
      "id": "f57acd7d-4da3-4ef1-9488-556d9474fc59",
      "metadata": {
        "id": "f57acd7d-4da3-4ef1-9488-556d9474fc59"
      },
      "source": [
        "Let's run the extractor on these post titles (calling the API in parallel for quicker results):"
      ]
    },
    {
      "cell_type": "code",
      "execution_count": null,
      "id": "db5e9ff7-96fd-434f-859d-332866839af5",
      "metadata": {
        "id": "db5e9ff7-96fd-434f-859d-332866839af5"
      },
      "outputs": [],
      "source": [
        "from concurrent.futures import ThreadPoolExecutor\n",
        "\n",
        "extracted = []\n",
        "# Run the model to extract the entities\n",
        "with ThreadPoolExecutor(max_workers=8) as executor:\n",
        "    for i in executor.map(cohereMovieExtractor.extract, test_df['text']):\n",
        "        extracted.append(str(i).strip())\n",
        "# Save results\n",
        "test_df['extracted_text'] = extracted"
      ]
    },
    {
      "cell_type": "markdown",
      "id": "ca0b61fb-d97e-4623-a936-037d41935c9a",
      "metadata": {
        "id": "ca0b61fb-d97e-4623-a936-037d41935c9a"
      },
      "source": [
        "Let's look at some results:"
      ]
    },
    {
      "cell_type": "code",
      "execution_count": null,
      "id": "55b90bd5-fbd4-427d-9fb5-088caa8b9faa",
      "metadata": {
        "id": "55b90bd5-fbd4-427d-9fb5-088caa8b9faa",
        "tags": []
      },
      "outputs": [],
      "source": [
        "test_df.head()"
      ]
    },
    {
      "cell_type": "markdown",
      "id": "887f90b0-131c-47e8-803e-405114a32986",
      "metadata": {
        "id": "887f90b0-131c-47e8-803e-405114a32986"
      },
      "source": [
        "Let's calculate the accuracy by comparing to the labeled examples"
      ]
    },
    {
      "cell_type": "code",
      "execution_count": null,
      "id": "992b3b1c-85a0-47e0-8821-d843882afc0b",
      "metadata": {
        "id": "992b3b1c-85a0-47e0-8821-d843882afc0b"
      },
      "outputs": [],
      "source": [
        "# Compare the label to the extracted text\n",
        "test_df['correct'] = (test_df['label'].str.lower() == test_df['extracted_text'].str.lower()).astype(int)\n",
        "\n",
        "# Print the accuracy\n",
        "print(f'Classification accuracy {test_df[\"correct\"].mean() *100}%')"
      ]
    },
    {
      "cell_type": "code",
      "execution_count": null,
      "id": "5215a8b6-d19b-4622-af54-98bfb9b3118a",
      "metadata": {
        "id": "5215a8b6-d19b-4622-af54-98bfb9b3118a"
      },
      "outputs": [],
      "source": [
        "test_df[test_df['correct']==0]"
      ]
    },
    {
      "cell_type": "code",
      "execution_count": null,
      "id": "e84eeadd-8aba-43a5-9461-b84305e162f2",
      "metadata": {
        "id": "e84eeadd-8aba-43a5-9461-b84305e162f2"
      },
      "outputs": [],
      "source": [
        "from sklearn.metrics import classification_report\n",
        "import warnings\n",
        "warnings.filterwarnings('ignore')\n",
        "\n",
        "print(classification_report(test_df['label'].str.lower(), test_df['extracted_text'].str.lower()))"
      ]
    }
  ],
  "metadata": {
    "colab": {
      "collapsed_sections": [],
      "name": "Entity_Extraction_With_Generative_Models.ipynb",
      "provenance": []
    },
    "kernelspec": {
      "display_name": "Python 3.8.8 ('base')",
      "language": "python",
      "name": "python3"
    },
    "language_info": {
      "codemirror_mode": {
        "name": "ipython",
        "version": 3
      },
      "file_extension": ".py",
      "mimetype": "text/x-python",
      "name": "python",
      "nbconvert_exporter": "python",
      "pygments_lexer": "ipython3",
      "version": "3.8.8"
    },
    "vscode": {
      "interpreter": {
        "hash": "be19e6e373137816207eebdc8cdbd35145df7e51669651174e4ed00ef05e2df6"
      }
    }
  },
  "nbformat": 4,
  "nbformat_minor": 5
}
