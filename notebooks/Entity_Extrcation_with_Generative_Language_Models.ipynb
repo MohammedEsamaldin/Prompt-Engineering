{
  "cells": [
    {
      "cell_type": "code",
      "execution_count": 1,
      "id": "00b28473-48d9-4036-880f-71a839d3df7f",
      "metadata": {
        "colab": {
          "base_uri": "https://localhost:8080/"
        },
        "id": "00b28473-48d9-4036-880f-71a839d3df7f",
        "outputId": "30f7f2d0-e8c5-41ac-f0db-0790867fca6b"
      },
      "outputs": [
        {
          "name": "stdout",
          "output_type": "stream",
          "text": [
            "Looking in indexes: https://pypi.org/simple, https://us-python.pkg.dev/colab-wheels/public/simple/\n",
            "Collecting cohere\n",
            "  Downloading cohere-2.2.5.tar.gz (9.3 kB)\n",
            "Requirement already satisfied: requests in /usr/local/lib/python3.7/dist-packages (2.23.0)\n",
            "Requirement already satisfied: tqdm in /usr/local/lib/python3.7/dist-packages (4.64.1)\n",
            "Requirement already satisfied: certifi>=2017.4.17 in /usr/local/lib/python3.7/dist-packages (from requests) (2022.6.15)\n",
            "Requirement already satisfied: urllib3!=1.25.0,!=1.25.1,<1.26,>=1.21.1 in /usr/local/lib/python3.7/dist-packages (from requests) (1.24.3)\n",
            "Requirement already satisfied: chardet<4,>=3.0.2 in /usr/local/lib/python3.7/dist-packages (from requests) (3.0.4)\n",
            "Requirement already satisfied: idna<3,>=2.5 in /usr/local/lib/python3.7/dist-packages (from requests) (2.10)\n",
            "Building wheels for collected packages: cohere\n",
            "  Building wheel for cohere (setup.py) ... \u001b[?25l\u001b[?25hdone\n",
            "  Created wheel for cohere: filename=cohere-2.2.5-cp37-cp37m-linux_x86_64.whl size=10453 sha256=2dc20f86394c857044f582c70b13eaeda5d610ba24cd8b9ef18eb842ad486351\n",
            "  Stored in directory: /root/.cache/pip/wheels/eb/19/2d/89553daf06bc949f1aeb4cfae6e1e306d7763b22ffe91e45fa\n",
            "Successfully built cohere\n",
            "Installing collected packages: cohere\n",
            "Successfully installed cohere-2.2.5\n"
          ]
        }
      ],
      "source": [
        "pip install cohere requests tqdm"
      ]
    },
    {
      "cell_type": "markdown",
      "id": "c1d1f58a-1a30-42bb-a443-e9227c4a4ff7",
      "metadata": {
        "id": "c1d1f58a-1a30-42bb-a443-e9227c4a4ff7"
      },
      "source": [
        "We'll then import these packages and declare the function that retrieves post titles from reddit."
      ]
    },
    {
      "cell_type": "code",
      "execution_count": 2,
      "id": "b9b83146-5648-40b7-8a26-6dba4e6ef6e0",
      "metadata": {
        "colab": {
          "base_uri": "https://localhost:8080/",
          "height": 1000
        },
        "id": "b9b83146-5648-40b7-8a26-6dba4e6ef6e0",
        "outputId": "4a271a91-5358-48b5-cb6e-74356438b53c"
      },
      "outputs": [
        {
          "ename": "FileNotFoundError",
          "evalue": "[Errno 2] No such file or directory: './data/Example_data.xlsx'",
          "output_type": "error",
          "traceback": [
            "\u001b[1;31m---------------------------------------------------------------------------\u001b[0m",
            "\u001b[1;31mFileNotFoundError\u001b[0m                         Traceback (most recent call last)",
            "\u001b[1;32m<ipython-input-2-fbb4d64774c8>\u001b[0m in \u001b[0;36m<module>\u001b[1;34m\u001b[0m\n\u001b[0;32m      6\u001b[0m \u001b[0mpd\u001b[0m\u001b[1;33m.\u001b[0m\u001b[0mset_option\u001b[0m\u001b[1;33m(\u001b[0m\u001b[1;34m'display.max_colwidth'\u001b[0m\u001b[1;33m,\u001b[0m \u001b[1;32mNone\u001b[0m\u001b[1;33m)\u001b[0m\u001b[1;33m\u001b[0m\u001b[1;33m\u001b[0m\u001b[0m\n\u001b[0;32m      7\u001b[0m \u001b[1;33m\u001b[0m\u001b[0m\n\u001b[1;32m----> 8\u001b[1;33m \u001b[0mdf\u001b[0m  \u001b[1;33m=\u001b[0m \u001b[0mpd\u001b[0m\u001b[1;33m.\u001b[0m\u001b[0mread_excel\u001b[0m\u001b[1;33m(\u001b[0m\u001b[1;34m'./data/Example_data.xlsx'\u001b[0m\u001b[1;33m)\u001b[0m\u001b[1;33m\u001b[0m\u001b[1;33m\u001b[0m\u001b[0m\n\u001b[0m\u001b[0;32m      9\u001b[0m \u001b[0mdf\u001b[0m\u001b[1;33m[\u001b[0m\u001b[1;34m'Description'\u001b[0m\u001b[1;33m]\u001b[0m\u001b[1;33m.\u001b[0m\u001b[0mhead\u001b[0m\u001b[1;33m(\u001b[0m\u001b[1;36m10\u001b[0m\u001b[1;33m)\u001b[0m\u001b[1;33m\u001b[0m\u001b[1;33m\u001b[0m\u001b[0m\n",
            "\u001b[1;32mc:\\Users\\mohammed\\anaconda3\\lib\\site-packages\\pandas\\util\\_decorators.py\u001b[0m in \u001b[0;36mwrapper\u001b[1;34m(*args, **kwargs)\u001b[0m\n\u001b[0;32m    297\u001b[0m                 )\n\u001b[0;32m    298\u001b[0m                 \u001b[0mwarnings\u001b[0m\u001b[1;33m.\u001b[0m\u001b[0mwarn\u001b[0m\u001b[1;33m(\u001b[0m\u001b[0mmsg\u001b[0m\u001b[1;33m,\u001b[0m \u001b[0mFutureWarning\u001b[0m\u001b[1;33m,\u001b[0m \u001b[0mstacklevel\u001b[0m\u001b[1;33m=\u001b[0m\u001b[0mstacklevel\u001b[0m\u001b[1;33m)\u001b[0m\u001b[1;33m\u001b[0m\u001b[1;33m\u001b[0m\u001b[0m\n\u001b[1;32m--> 299\u001b[1;33m             \u001b[1;32mreturn\u001b[0m \u001b[0mfunc\u001b[0m\u001b[1;33m(\u001b[0m\u001b[1;33m*\u001b[0m\u001b[0margs\u001b[0m\u001b[1;33m,\u001b[0m \u001b[1;33m**\u001b[0m\u001b[0mkwargs\u001b[0m\u001b[1;33m)\u001b[0m\u001b[1;33m\u001b[0m\u001b[1;33m\u001b[0m\u001b[0m\n\u001b[0m\u001b[0;32m    300\u001b[0m \u001b[1;33m\u001b[0m\u001b[0m\n\u001b[0;32m    301\u001b[0m         \u001b[1;32mreturn\u001b[0m \u001b[0mwrapper\u001b[0m\u001b[1;33m\u001b[0m\u001b[1;33m\u001b[0m\u001b[0m\n",
            "\u001b[1;32mc:\\Users\\mohammed\\anaconda3\\lib\\site-packages\\pandas\\io\\excel\\_base.py\u001b[0m in \u001b[0;36mread_excel\u001b[1;34m(io, sheet_name, header, names, index_col, usecols, squeeze, dtype, engine, converters, true_values, false_values, skiprows, nrows, na_values, keep_default_na, na_filter, verbose, parse_dates, date_parser, thousands, comment, skipfooter, convert_float, mangle_dupe_cols, storage_options)\u001b[0m\n\u001b[0;32m    334\u001b[0m     \u001b[1;32mif\u001b[0m \u001b[1;32mnot\u001b[0m \u001b[0misinstance\u001b[0m\u001b[1;33m(\u001b[0m\u001b[0mio\u001b[0m\u001b[1;33m,\u001b[0m \u001b[0mExcelFile\u001b[0m\u001b[1;33m)\u001b[0m\u001b[1;33m:\u001b[0m\u001b[1;33m\u001b[0m\u001b[1;33m\u001b[0m\u001b[0m\n\u001b[0;32m    335\u001b[0m         \u001b[0mshould_close\u001b[0m \u001b[1;33m=\u001b[0m \u001b[1;32mTrue\u001b[0m\u001b[1;33m\u001b[0m\u001b[1;33m\u001b[0m\u001b[0m\n\u001b[1;32m--> 336\u001b[1;33m         \u001b[0mio\u001b[0m \u001b[1;33m=\u001b[0m \u001b[0mExcelFile\u001b[0m\u001b[1;33m(\u001b[0m\u001b[0mio\u001b[0m\u001b[1;33m,\u001b[0m \u001b[0mstorage_options\u001b[0m\u001b[1;33m=\u001b[0m\u001b[0mstorage_options\u001b[0m\u001b[1;33m,\u001b[0m \u001b[0mengine\u001b[0m\u001b[1;33m=\u001b[0m\u001b[0mengine\u001b[0m\u001b[1;33m)\u001b[0m\u001b[1;33m\u001b[0m\u001b[1;33m\u001b[0m\u001b[0m\n\u001b[0m\u001b[0;32m    337\u001b[0m     \u001b[1;32melif\u001b[0m \u001b[0mengine\u001b[0m \u001b[1;32mand\u001b[0m \u001b[0mengine\u001b[0m \u001b[1;33m!=\u001b[0m \u001b[0mio\u001b[0m\u001b[1;33m.\u001b[0m\u001b[0mengine\u001b[0m\u001b[1;33m:\u001b[0m\u001b[1;33m\u001b[0m\u001b[1;33m\u001b[0m\u001b[0m\n\u001b[0;32m    338\u001b[0m         raise ValueError(\n",
            "\u001b[1;32mc:\\Users\\mohammed\\anaconda3\\lib\\site-packages\\pandas\\io\\excel\\_base.py\u001b[0m in \u001b[0;36m__init__\u001b[1;34m(self, path_or_buffer, engine, storage_options)\u001b[0m\n\u001b[0;32m   1069\u001b[0m                 \u001b[0mext\u001b[0m \u001b[1;33m=\u001b[0m \u001b[1;34m\"xls\"\u001b[0m\u001b[1;33m\u001b[0m\u001b[1;33m\u001b[0m\u001b[0m\n\u001b[0;32m   1070\u001b[0m             \u001b[1;32melse\u001b[0m\u001b[1;33m:\u001b[0m\u001b[1;33m\u001b[0m\u001b[1;33m\u001b[0m\u001b[0m\n\u001b[1;32m-> 1071\u001b[1;33m                 ext = inspect_excel_format(\n\u001b[0m\u001b[0;32m   1072\u001b[0m                     \u001b[0mcontent\u001b[0m\u001b[1;33m=\u001b[0m\u001b[0mpath_or_buffer\u001b[0m\u001b[1;33m,\u001b[0m \u001b[0mstorage_options\u001b[0m\u001b[1;33m=\u001b[0m\u001b[0mstorage_options\u001b[0m\u001b[1;33m\u001b[0m\u001b[1;33m\u001b[0m\u001b[0m\n\u001b[0;32m   1073\u001b[0m                 )\n",
            "\u001b[1;32mc:\\Users\\mohammed\\anaconda3\\lib\\site-packages\\pandas\\io\\excel\\_base.py\u001b[0m in \u001b[0;36minspect_excel_format\u001b[1;34m(path, content, storage_options)\u001b[0m\n\u001b[0;32m    947\u001b[0m     \u001b[1;32massert\u001b[0m \u001b[0mcontent_or_path\u001b[0m \u001b[1;32mis\u001b[0m \u001b[1;32mnot\u001b[0m \u001b[1;32mNone\u001b[0m\u001b[1;33m\u001b[0m\u001b[1;33m\u001b[0m\u001b[0m\n\u001b[0;32m    948\u001b[0m \u001b[1;33m\u001b[0m\u001b[0m\n\u001b[1;32m--> 949\u001b[1;33m     with get_handle(\n\u001b[0m\u001b[0;32m    950\u001b[0m         \u001b[0mcontent_or_path\u001b[0m\u001b[1;33m,\u001b[0m \u001b[1;34m\"rb\"\u001b[0m\u001b[1;33m,\u001b[0m \u001b[0mstorage_options\u001b[0m\u001b[1;33m=\u001b[0m\u001b[0mstorage_options\u001b[0m\u001b[1;33m,\u001b[0m \u001b[0mis_text\u001b[0m\u001b[1;33m=\u001b[0m\u001b[1;32mFalse\u001b[0m\u001b[1;33m\u001b[0m\u001b[1;33m\u001b[0m\u001b[0m\n\u001b[0;32m    951\u001b[0m     ) as handle:\n",
            "\u001b[1;32mc:\\Users\\mohammed\\anaconda3\\lib\\site-packages\\pandas\\io\\common.py\u001b[0m in \u001b[0;36mget_handle\u001b[1;34m(path_or_buf, mode, encoding, compression, memory_map, is_text, errors, storage_options)\u001b[0m\n\u001b[0;32m    649\u001b[0m         \u001b[1;32melse\u001b[0m\u001b[1;33m:\u001b[0m\u001b[1;33m\u001b[0m\u001b[1;33m\u001b[0m\u001b[0m\n\u001b[0;32m    650\u001b[0m             \u001b[1;31m# Binary mode\u001b[0m\u001b[1;33m\u001b[0m\u001b[1;33m\u001b[0m\u001b[1;33m\u001b[0m\u001b[0m\n\u001b[1;32m--> 651\u001b[1;33m             \u001b[0mhandle\u001b[0m \u001b[1;33m=\u001b[0m \u001b[0mopen\u001b[0m\u001b[1;33m(\u001b[0m\u001b[0mhandle\u001b[0m\u001b[1;33m,\u001b[0m \u001b[0mioargs\u001b[0m\u001b[1;33m.\u001b[0m\u001b[0mmode\u001b[0m\u001b[1;33m)\u001b[0m\u001b[1;33m\u001b[0m\u001b[1;33m\u001b[0m\u001b[0m\n\u001b[0m\u001b[0;32m    652\u001b[0m         \u001b[0mhandles\u001b[0m\u001b[1;33m.\u001b[0m\u001b[0mappend\u001b[0m\u001b[1;33m(\u001b[0m\u001b[0mhandle\u001b[0m\u001b[1;33m)\u001b[0m\u001b[1;33m\u001b[0m\u001b[1;33m\u001b[0m\u001b[0m\n\u001b[0;32m    653\u001b[0m \u001b[1;33m\u001b[0m\u001b[0m\n",
            "\u001b[1;31mFileNotFoundError\u001b[0m: [Errno 2] No such file or directory: './data/Example_data.xlsx'"
          ]
        }
      ],
      "source": [
        "import cohere\n",
        "import pandas as pd\n",
        "import requests\n",
        "import datetime\n",
        "from tqdm import tqdm\n",
        "pd.set_option('display.max_colwidth', None)\n",
        "\n",
        "df  = pd.read_excel('./data/Example_data.xlsx')\n",
        "df['Description'].head(10)"
      ]
    },
    {
      "cell_type": "markdown",
      "id": "e78c4f33-3d35-448c-b511-e5150bbe951c",
      "metadata": {
        "id": "e78c4f33-3d35-448c-b511-e5150bbe951c"
      },
      "source": [
        "You'll need your API key for this next cell. [Sign up to Cohere](https://os.cohere.ai/) and get one if you haven't yet."
      ]
    },
    {
      "cell_type": "code",
      "execution_count": 7,
      "id": "9c1554a9-9203-4ca9-9711-aa9ce051721e",
      "metadata": {
        "id": "9c1554a9-9203-4ca9-9711-aa9ce051721e"
      },
      "outputs": [],
      "source": [
        "# Paste your API key here. Remember to not share publicly\n",
        "api_key = '9Y0OqZQHpfb7vVrypsRXChE8VZzVAmZMCtmbIrhu'\n",
        "\n",
        "# Create and retrieve a Cohere API key from os.cohere.ai\n",
        "co = cohere.Client(api_key)"
      ]
    },
    {
      "cell_type": "code",
      "execution_count": 10,
      "id": "a10e6784-6e8b-4a17-83fd-ec34d90c90c6",
      "metadata": {
        "id": "a10e6784-6e8b-4a17-83fd-ec34d90c90c6",
        "tags": []
      },
      "outputs": [],
      "source": [
        "\n",
        "news_examples = []\n"
      ]
    },
    {
      "cell_type": "code",
      "execution_count": 11,
      "id": "0ae89a2b-9f94-4e1e-8d00-378cc1b48149",
      "metadata": {
        "id": "0ae89a2b-9f94-4e1e-8d00-378cc1b48149"
      },
      "outputs": [],
      "source": [
        "#@title Create the prompt (Run this cell to execute required code) {display-mode: \"form\"}\n",
        "\n",
        "class cohereExtractor():\n",
        "    def __init__(self, examples, example_labels, labels, task_desciption, example_prompt):\n",
        "        self.examples = examples\n",
        "        self.example_labels = example_labels\n",
        "        self.labels = labels\n",
        "        self.task_desciption = task_desciption\n",
        "        self.example_prompt = example_prompt\n",
        "\n",
        "    def make_prompt(self, example):\n",
        "        examples = self.examples + [example]\n",
        "        labels = self.example_labels + [\"\"]\n",
        "        return (self.task_desciption +\n",
        "                \"\\n---\\n\".join( [examples[i] + \"\\n\" +\n",
        "                                self.example_prompt + \n",
        "                                 labels[i] for i in range(len(examples))]))\n",
        "\n",
        "    def extract(self, example):\n",
        "      extraction = co.generate(\n",
        "          model='large',\n",
        "          prompt=self.make_prompt(example),\n",
        "          max_tokens=10,\n",
        "          temperature=0.1,\n",
        "          stop_sequences=[\"\\n\"])\n",
        "      return(extraction.generations[0].text[:-1])\n",
        "\n",
        "\n",
        "coherenewsExtractor = cohereExtractor([e[1] for e in news_examples], \n",
        "                                       [e[0] for e in news_examples], [],\n",
        "                                       \"\", \n",
        "                                       \"extract the news title from the post:\")\n",
        "\n",
        "# Uncomment to inspect the full prompt:\n",
        "# print(coherenewsExtractor.make_prompt('<input text here>'))"
      ]
    },
    {
      "cell_type": "code",
      "execution_count": 12,
      "id": "Fw8V9H2EF16U",
      "metadata": {
        "colab": {
          "base_uri": "https://localhost:8080/"
        },
        "id": "Fw8V9H2EF16U",
        "outputId": "a4a703a6-8921-4e70-fc71-06bc70a5d52b"
      },
      "outputs": [
        {
          "name": "stdout",
          "output_type": "stream",
          "text": [
            "<input text here>\n",
            "extract the news title from the post:\n"
          ]
        }
      ],
      "source": [
        "# This is what the prompt looks like:\n",
        "print(coherenewsExtractor.make_prompt('<input text here>'))"
      ]
    },
    {
      "cell_type": "markdown",
      "id": "aa02636a-eb2c-4096-a84e-5a8fb5f8249b",
      "metadata": {
        "id": "aa02636a-eb2c-4096-a84e-5a8fb5f8249b"
      },
      "source": [
        "## Getting the data\n"
      ]
    },
    {
      "cell_type": "code",
      "execution_count": null,
      "id": "d569e098-d97e-41c2-93c7-7f10e09eb53d",
      "metadata": {
        "id": "d569e098-d97e-41c2-93c7-7f10e09eb53d"
      },
      "outputs": [],
      "source": [
        "num_posts = 10\n",
        "\n",
        "movies_list = get_post_titles(size=num_posts, \n",
        "      after=str(int(datetime.datetime(2021,1,1,0,0).timestamp())), \n",
        "      before=str(int(datetime.datetime(2022,1,1,0,0).timestamp())), \n",
        "      subreddit=\"movies\", \n",
        "      sort_type=\"score\", \n",
        "      sort=\"desc\")\n",
        "\n",
        "# Show the list\n",
        "movies_list"
      ]
    },
    {
      "cell_type": "markdown",
      "id": "29be719c-6ac9-49e1-a01c-e9ecac01c681",
      "metadata": {
        "id": "29be719c-6ac9-49e1-a01c-e9ecac01c681"
      },
      "source": [
        "## Running the model\n",
        "And now we loop over the posts and process each one of them with our extractor."
      ]
    },
    {
      "cell_type": "code",
      "execution_count": null,
      "id": "999dad3e-7152-440d-bec9-ae8a89f10b8f",
      "metadata": {
        "colab": {
          "base_uri": "https://localhost:8080/"
        },
        "id": "999dad3e-7152-440d-bec9-ae8a89f10b8f",
        "outputId": "40c8ce64-793b-42bf-b44e-8ee07c0a7379",
        "tags": []
      },
      "outputs": [
        {
          "name": "stderr",
          "output_type": "stream",
          "text": [
            "100%|██████████| 10/10 [00:10<00:00,  1.09s/it]\n"
          ]
        }
      ],
      "source": [
        "results = []\n",
        "for text in tqdm(movies_list):\n",
        "    try:\n",
        "        extracted_text = coherenewsExtractor.extract(text)\n",
        "        results.append(extracted_text)\n",
        "    except Exception as e:\n",
        "        print('ERROR: ', e)"
      ]
    },
    {
      "cell_type": "markdown",
      "id": "a6a56981-5320-47d9-96bf-cf2b90278964",
      "metadata": {
        "id": "a6a56981-5320-47d9-96bf-cf2b90278964"
      },
      "source": [
        "Let's look at the results:"
      ]
    },
    {
      "cell_type": "code",
      "execution_count": null,
      "id": "296d7bde-c01e-48e2-bf41-24624307eca7",
      "metadata": {
        "id": "296d7bde-c01e-48e2-bf41-24624307eca7"
      },
      "outputs": [],
      "source": [
        "pd.DataFrame(data={'text': movies_list, 'extracted_text': results})"
      ]
    },
    {
      "cell_type": "code",
      "execution_count": null,
      "id": "f39dd295-debd-48d3-ad30-76068e4e47e6",
      "metadata": {
        "id": "f39dd295-debd-48d3-ad30-76068e4e47e6",
        "tags": []
      },
      "outputs": [],
      "source": [
        "test_df = pd.read_csv('https://raw.githubusercontent.com/cohere-ai/notebooks/main/notebooks/data/movie_extraction_test_set_100.csv',index_col=0)\n",
        "test_df"
      ]
    },
    {
      "cell_type": "markdown",
      "id": "f57acd7d-4da3-4ef1-9488-556d9474fc59",
      "metadata": {
        "id": "f57acd7d-4da3-4ef1-9488-556d9474fc59"
      },
      "source": [
        "Let's run the extractor on these post titles (calling the API in parallel for quicker results):"
      ]
    },
    {
      "cell_type": "code",
      "execution_count": null,
      "id": "db5e9ff7-96fd-434f-859d-332866839af5",
      "metadata": {
        "id": "db5e9ff7-96fd-434f-859d-332866839af5"
      },
      "outputs": [],
      "source": [
        "from concurrent.futures import ThreadPoolExecutor\n",
        "\n",
        "extracted = []\n",
        "# Run the model to extract the entities\n",
        "with ThreadPoolExecutor(max_workers=8) as executor:\n",
        "    for i in executor.map(cohereMovieExtractor.extract, test_df['text']):\n",
        "        extracted.append(str(i).strip())\n",
        "# Save results\n",
        "test_df['extracted_text'] = extracted"
      ]
    },
    {
      "cell_type": "markdown",
      "id": "ca0b61fb-d97e-4623-a936-037d41935c9a",
      "metadata": {
        "id": "ca0b61fb-d97e-4623-a936-037d41935c9a"
      },
      "source": [
        "Let's look at some results:"
      ]
    },
    {
      "cell_type": "code",
      "execution_count": null,
      "id": "55b90bd5-fbd4-427d-9fb5-088caa8b9faa",
      "metadata": {
        "id": "55b90bd5-fbd4-427d-9fb5-088caa8b9faa",
        "tags": []
      },
      "outputs": [],
      "source": [
        "test_df.head()"
      ]
    },
    {
      "cell_type": "markdown",
      "id": "887f90b0-131c-47e8-803e-405114a32986",
      "metadata": {
        "id": "887f90b0-131c-47e8-803e-405114a32986"
      },
      "source": [
        "Let's calculate the accuracy by comparing to the labeled examples"
      ]
    },
    {
      "cell_type": "code",
      "execution_count": null,
      "id": "992b3b1c-85a0-47e0-8821-d843882afc0b",
      "metadata": {
        "id": "992b3b1c-85a0-47e0-8821-d843882afc0b"
      },
      "outputs": [],
      "source": [
        "# Compare the label to the extracted text\n",
        "test_df['correct'] = (test_df['label'].str.lower() == test_df['extracted_text'].str.lower()).astype(int)\n",
        "\n",
        "# Print the accuracy\n",
        "print(f'Classification accuracy {test_df[\"correct\"].mean() *100}%')"
      ]
    },
    {
      "cell_type": "code",
      "execution_count": null,
      "id": "5215a8b6-d19b-4622-af54-98bfb9b3118a",
      "metadata": {
        "id": "5215a8b6-d19b-4622-af54-98bfb9b3118a"
      },
      "outputs": [],
      "source": [
        "test_df[test_df['correct']==0]"
      ]
    },
    {
      "cell_type": "code",
      "execution_count": null,
      "id": "e84eeadd-8aba-43a5-9461-b84305e162f2",
      "metadata": {
        "id": "e84eeadd-8aba-43a5-9461-b84305e162f2"
      },
      "outputs": [],
      "source": [
        "from sklearn.metrics import classification_report\n",
        "import warnings\n",
        "warnings.filterwarnings('ignore')\n",
        "\n",
        "print(classification_report(test_df['label'].str.lower(), test_df['extracted_text'].str.lower()))"
      ]
    }
  ],
  "metadata": {
    "colab": {
      "collapsed_sections": [],
      "name": "Entity_Extraction_With_Generative_Models.ipynb",
      "provenance": []
    },
    "kernelspec": {
      "display_name": "Python 3.8.8 ('base')",
      "language": "python",
      "name": "python3"
    },
    "language_info": {
      "codemirror_mode": {
        "name": "ipython",
        "version": 3
      },
      "file_extension": ".py",
      "mimetype": "text/x-python",
      "name": "python",
      "nbconvert_exporter": "python",
      "pygments_lexer": "ipython3",
      "version": "3.8.8"
    },
    "vscode": {
      "interpreter": {
        "hash": "be19e6e373137816207eebdc8cdbd35145df7e51669651174e4ed00ef05e2df6"
      }
    }
  },
  "nbformat": 4,
  "nbformat_minor": 5
}
